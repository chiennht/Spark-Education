{
  "nbformat": 4,
  "nbformat_minor": 0,
  "metadata": {
    "colab": {
      "name": "A-priori.ipynb",
      "provenance": [],
      "collapsed_sections": []
    },
    "kernelspec": {
      "name": "python3",
      "display_name": "Python 3"
    }
  },
  "cells": [
    {
      "cell_type": "code",
      "metadata": {
        "colab": {
          "base_uri": "https://localhost:8080/"
        },
        "id": "HouKLVaxJEui",
        "outputId": "38c083ad-e944-454c-bf65-96e1c99f5f23"
      },
      "source": [
        "!pip install pyspark\r\n",
        "!pip install findspark"
      ],
      "execution_count": null,
      "outputs": [
        {
          "output_type": "stream",
          "text": [
            "Collecting pyspark\n",
            "\u001b[?25l  Downloading https://files.pythonhosted.org/packages/27/67/5158f846202d7f012d1c9ca21c3549a58fd3c6707ae8ee823adcaca6473c/pyspark-3.0.2.tar.gz (204.8MB)\n",
            "\u001b[K     |████████████████████████████████| 204.8MB 75kB/s \n",
            "\u001b[?25hCollecting py4j==0.10.9\n",
            "\u001b[?25l  Downloading https://files.pythonhosted.org/packages/9e/b6/6a4fb90cd235dc8e265a6a2067f2a2c99f0d91787f06aca4bcf7c23f3f80/py4j-0.10.9-py2.py3-none-any.whl (198kB)\n",
            "\u001b[K     |████████████████████████████████| 204kB 21.8MB/s \n",
            "\u001b[?25hBuilding wheels for collected packages: pyspark\n",
            "  Building wheel for pyspark (setup.py) ... \u001b[?25l\u001b[?25hdone\n",
            "  Created wheel for pyspark: filename=pyspark-3.0.2-py2.py3-none-any.whl size=205186687 sha256=66091bec7d079a9988d16ef9bdb47239ce2611ede8b22b9879c449c83431839e\n",
            "  Stored in directory: /root/.cache/pip/wheels/8b/09/da/c1f2859bcc86375dc972c5b6af4881b3603269bcc4c9be5d16\n",
            "Successfully built pyspark\n",
            "Installing collected packages: py4j, pyspark\n",
            "Successfully installed py4j-0.10.9 pyspark-3.0.2\n",
            "Collecting findspark\n",
            "  Downloading https://files.pythonhosted.org/packages/fc/2d/2e39f9a023479ea798eed4351cd66f163ce61e00c717e03c37109f00c0f2/findspark-1.4.2-py2.py3-none-any.whl\n",
            "Installing collected packages: findspark\n",
            "Successfully installed findspark-1.4.2\n"
          ],
          "name": "stdout"
        }
      ]
    },
    {
      "cell_type": "code",
      "metadata": {
        "id": "ZroJkKiuf1wh"
      },
      "source": [
        "import pyspark\r\n",
        "from pyspark.sql import SparkSession\r\n",
        "from pyspark import SparkConf, SparkContext"
      ],
      "execution_count": null,
      "outputs": []
    },
    {
      "cell_type": "code",
      "metadata": {
        "id": "zzKRA6gJhqk7"
      },
      "source": [
        "MAX_MEMORY = \"5g\"\r\n",
        "\r\n",
        "# SparkSession object\r\n",
        "\r\n",
        "spark = SparkSession.builder \\\r\n",
        "                    .appName('apriori')\\\r\n",
        "                    .config(\"spark.executor.memory\", MAX_MEMORY) \\\r\n",
        "                    .config(\"spark.driver.memory\", MAX_MEMORY) \\\r\n",
        "                    .getOrCreate()"
      ],
      "execution_count": null,
      "outputs": []
    },
    {
      "cell_type": "code",
      "metadata": {
        "colab": {
          "resources": {
            "http://localhost:8080/nbextensions/google.colab/files.js": {
              "data": "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",
              "ok": true,
              "headers": [
                [
                  "content-type",
                  "application/javascript"
                ]
              ],
              "status": 200,
              "status_text": ""
            }
          },
          "base_uri": "https://localhost:8080/",
          "height": 72
        },
        "id": "tUlbEDEThtLI",
        "outputId": "db282675-5585-44f3-af8c-9378005048a9"
      },
      "source": [
        "from google.colab import files\r\n",
        "uploaded = files.upload()"
      ],
      "execution_count": null,
      "outputs": [
        {
          "output_type": "display_data",
          "data": {
            "text/html": [
              "\n",
              "     <input type=\"file\" id=\"files-9fbbdec2-e0f3-48a5-b182-6b2f4edaa830\" name=\"files[]\" multiple disabled\n",
              "        style=\"border:none\" />\n",
              "     <output id=\"result-9fbbdec2-e0f3-48a5-b182-6b2f4edaa830\">\n",
              "      Upload widget is only available when the cell has been executed in the\n",
              "      current browser session. Please rerun this cell to enable.\n",
              "      </output>\n",
              "      <script src=\"/nbextensions/google.colab/files.js\"></script> "
            ],
            "text/plain": [
              "<IPython.core.display.HTML object>"
            ]
          },
          "metadata": {
            "tags": []
          }
        },
        {
          "output_type": "stream",
          "text": [
            "Saving store_data.csv to store_data.csv\n"
          ],
          "name": "stdout"
        }
      ]
    },
    {
      "cell_type": "code",
      "metadata": {
        "colab": {
          "base_uri": "https://localhost:8080/"
        },
        "id": "RDD7wBb7isoh",
        "outputId": "e16b7168-9606-4af3-888e-bcf249fb3227"
      },
      "source": [
        "import pandas as pd\r\n",
        "import io\r\n",
        "\r\n",
        "df = spark.read.csv(\"store_data.csv\")\r\n",
        "df"
      ],
      "execution_count": null,
      "outputs": [
        {
          "output_type": "execute_result",
          "data": {
            "text/plain": [
              "DataFrame[_c0: string, _c1: string, _c2: string, _c3: string, _c4: string, _c5: string, _c6: string, _c7: string, _c8: string, _c9: string, _c10: string, _c11: string, _c12: string, _c13: string, _c14: string, _c15: string, _c16: string, _c17: string, _c18: string, _c19: string]"
            ]
          },
          "metadata": {
            "tags": []
          },
          "execution_count": 27
        }
      ]
    },
    {
      "cell_type": "code",
      "metadata": {
        "id": "73uKaBVWj5Na"
      },
      "source": [
        "\r\n",
        "def generate_unique_item_set(df):\r\n",
        "    # empty dataframe\r\n",
        "    total_item_set_df = None\r\n",
        "    \r\n",
        "    # Iteration over each column - 20 columns\r\n",
        "    for col_index in range(20):\r\n",
        "        \r\n",
        "        # Loading the elements of each column individually\r\n",
        "        _c_df = df.select(\"_c\" + str(col_index))\r\n",
        "        \r\n",
        "        if total_item_set_df is None:\r\n",
        "            # None for the first iteration in the loop\r\n",
        "            total_item_set_df = _c_df\r\n",
        "            \r\n",
        "        else:\r\n",
        "            # After the first iteration, appending the entries from each column to total_item_set_df\r\n",
        "            total_item_set_df = total_item_set_df.union(_c_df)\r\n",
        "            \r\n",
        "    \r\n",
        "    return total_item_set_df.select(\"_c0\").na.drop().rdd.flatMap(remove_duplicate_columns).distinct().toDF()"
      ],
      "execution_count": null,
      "outputs": []
    },
    {
      "cell_type": "code",
      "metadata": {
        "id": "YHE6qVgwkTfq"
      },
      "source": [
        "# Function to remove the columns with duplicate values\r\n",
        "\r\n",
        "def remove_duplicate_columns(x):\r\n",
        "    # Length of the column\r\n",
        "    col_len = len(x)\r\n",
        "    \r\n",
        "    # Empty RDD - set of values\r\n",
        "    columns = set()\r\n",
        "    \r\n",
        "    # Removing any additional spaces from the elements and adding the elements into the column from RDD 'x'\r\n",
        "    for col in range(col_len):\r\n",
        "        x_col = str(x[col]).strip()\r\n",
        "        columns.add(x_col)\r\n",
        "    \r\n",
        "    # To check if elements are present in the provided dataframe/RDD \r\n",
        "    if len(columns) < col_len:\r\n",
        "        return []\r\n",
        "    \r\n",
        "    # Returning the sorted list of items in each element as tuple\r\n",
        "    return [(tuple(sorted(columns)))]"
      ],
      "execution_count": null,
      "outputs": []
    },
    {
      "cell_type": "code",
      "metadata": {
        "colab": {
          "base_uri": "https://localhost:8080/"
        },
        "id": "wydbYRTAkAug",
        "outputId": "cd0b6905-ddba-47e9-972a-02d10b155b77"
      },
      "source": [
        "# Syntax structure: item_sets = function(dataframe)\r\n",
        "item_sets = generate_unique_item_set(df)\r\n",
        "item_sets.show()"
      ],
      "execution_count": null,
      "outputs": [
        {
          "output_type": "stream",
          "text": [
            "+--------------------+\n",
            "|                  _1|\n",
            "+--------------------+\n",
            "|   whole wheat pasta|\n",
            "|           asparagus|\n",
            "|            pancakes|\n",
            "|         blueberries|\n",
            "|            zucchini|\n",
            "|              shrimp|\n",
            "|             burgers|\n",
            "|           spaghetti|\n",
            "|         french wine|\n",
            "|       strong cheese|\n",
            "|extra dark chocolate|\n",
            "|              melons|\n",
            "|               cream|\n",
            "|   frozen vegetables|\n",
            "|           meatballs|\n",
            "|          energy bar|\n",
            "|            escalope|\n",
            "|        energy drink|\n",
            "|                mint|\n",
            "|      vegetables mix|\n",
            "+--------------------+\n",
            "only showing top 20 rows\n",
            "\n"
          ],
          "name": "stdout"
        }
      ]
    },
    {
      "cell_type": "code",
      "metadata": {
        "colab": {
          "base_uri": "https://localhost:8080/"
        },
        "id": "V2WoY9WckrZh",
        "outputId": "9ba79f21-e88a-4de4-975c-cc9af5dced97"
      },
      "source": [
        "# Give the number of unique items in the transaction dataset\r\n",
        "item_sets.count()"
      ],
      "execution_count": null,
      "outputs": [
        {
          "output_type": "execute_result",
          "data": {
            "text/plain": [
              "119"
            ]
          },
          "metadata": {
            "tags": []
          },
          "execution_count": 31
        }
      ]
    },
    {
      "cell_type": "code",
      "metadata": {
        "id": "7LXJesmglwX6"
      },
      "source": [
        "def get_freq_item_sets(total_records, candidate_sets_shared, transaction_df_rdd, min_support):    \r\n",
        "    #filtered_item_set = transaction_df_rdd.flatMap(lambda x: filter_and_map_transaction(x, candidate_sets_shared)) \\\r\n",
        "    filtered_item_set = transaction_df_rdd.flatMap(lambda x: filter_and_map_transaction(x, candidate_sets_shared)).reduceByKey(lambda a, b: a+b).map(lambda x: (x[0], x[1]/total_records)).filter(lambda x: x[1]>=min_support)\r\n",
        "\r\n",
        "    return filtered_item_set"
      ],
      "execution_count": null,
      "outputs": []
    },
    {
      "cell_type": "code",
      "metadata": {
        "id": "pxfCXQX1mPew"
      },
      "source": [
        "from pyspark.sql.types import StructType, ArrayType, StructField, DoubleType, StringType\r\n",
        "\r\n",
        "def apriori(item_sets, transaction_df_rdd, min_support):\r\n",
        "    \r\n",
        "    \"\"\"\r\n",
        "    Attributes\r\n",
        "    ----------\r\n",
        "    item_sets: DataFrame that has all the items present in the transactions\r\n",
        "    \r\n",
        "    transaction_df_rdd: Transacations in the form of an RDD\r\n",
        "    \r\n",
        "    min_support: Minimum support threshold\r\n",
        "    -----------\r\n",
        "    \"\"\"\r\n",
        "    \r\n",
        "    total_records = transaction_df_rdd.count()\r\n",
        "\r\n",
        "    freq_item_sets_all_orders = []\r\n",
        "\r\n",
        "    candidate_sets_order_1 = spark.sparkContext.broadcast(item_sets.collect())\r\n",
        "    \r\n",
        "    frequent_item_sets_order_1 = get_freq_item_sets(total_records, candidate_sets_order_1, transaction_df_rdd, min_support)\r\n",
        "    freq_item_sets_all_orders.append(frequent_item_sets_order_1)\r\n",
        "    \r\n",
        "    frequent_item_sets_order_1_df = frequent_item_sets_order_1.map(lambda x:tuple(x[0])).toDF()\r\n",
        "    \r\n",
        "    k = 0\r\n",
        "    \r\n",
        "    while is_freq_item_set_not_empty(freq_item_sets_all_orders[k]):\r\n",
        "        \r\n",
        "        current_candidate_sets = get_all_possible_candidate_sets(freq_item_sets_all_orders[k], frequent_item_sets_order_1_df)\r\n",
        "        current_candidate_sets = spark.sparkContext.broadcast(current_candidate_sets.collect()) \r\n",
        "        current_frequent_item_sets = get_freq_item_sets(total_records, current_candidate_sets, transaction_df_rdd, min_support)\r\n",
        "        \r\n",
        "        freq_item_sets_all_orders.append(current_frequent_item_sets)\r\n",
        "        k += 1\r\n",
        "    \r\n",
        "    \r\n",
        "    return freq_item_sets_all_orders"
      ],
      "execution_count": null,
      "outputs": []
    },
    {
      "cell_type": "code",
      "metadata": {
        "colab": {
          "base_uri": "https://localhost:8080/"
        },
        "id": "cQJEUmp4mWX3",
        "outputId": "269c9b96-1b89-45ea-fe1b-fd390083d991"
      },
      "source": [
        "# Generate the frequent item set using the apriori function created above.\r\n",
        "# Minimum support = 0.01\r\n",
        "# Check the format in which each attribute must be provided\r\n",
        "\r\n",
        "transaction_df_rdd = df.rdd\r\n",
        "freq_item_sets_all_orders = apriori(item_sets, transaction_df_rdd, 0.01)\r\n",
        "\r\n",
        "print(freq_item_sets_all_orders)"
      ],
      "execution_count": null,
      "outputs": [
        {
          "output_type": "stream",
          "text": [
            "[PythonRDD[403] at RDD at PythonRDD.scala:53, PythonRDD[404] at RDD at PythonRDD.scala:53, PythonRDD[405] at RDD at PythonRDD.scala:53, PythonRDD[406] at RDD at PythonRDD.scala:53]\n"
          ],
          "name": "stdout"
        }
      ]
    },
    {
      "cell_type": "code",
      "metadata": {
        "colab": {
          "base_uri": "https://localhost:8080/"
        },
        "id": "Vb9f4uMBmabo",
        "outputId": "19aa614c-3f76-4943-ea52-c091cf9169e8"
      },
      "source": [
        "freq_item_sets_all_orders[0].take(20)"
      ],
      "execution_count": null,
      "outputs": [
        {
          "output_type": "execute_result",
          "data": {
            "text/plain": [
              "[(Row(_1='whole wheat pasta'), 0.029462738301559793),\n",
              " (Row(_1='pancakes'), 0.09505399280095987),\n",
              " (Row(_1='shrimp'), 0.07145713904812692),\n",
              " (Row(_1='burgers'), 0.0871883748833489),\n",
              " (Row(_1='spaghetti'), 0.17411011865084655),\n",
              " (Row(_1='french wine'), 0.022530329289428077),\n",
              " (Row(_1='extra dark chocolate'), 0.011998400213304892),\n",
              " (Row(_1='melons'), 0.011998400213304892),\n",
              " (Row(_1='frozen vegetables'), 0.09532062391681109),\n",
              " (Row(_1='meatballs'), 0.020930542594320756),\n",
              " (Row(_1='energy bar'), 0.027063058258898813),\n",
              " (Row(_1='escalope'), 0.0793227569657379),\n",
              " (Row(_1='energy drink'), 0.026663111585121985),\n",
              " (Row(_1='mint'), 0.0174643380882549),\n",
              " (Row(_1='vegetables mix'), 0.025729902679642713),\n",
              " (Row(_1='body spray'), 0.011465137981602452),\n",
              " (Row(_1='chocolate'), 0.1638448206905746),\n",
              " (Row(_1='butter'), 0.030129316091187842),\n",
              " (Row(_1='eggplant'), 0.013198240234635382),\n",
              " (Row(_1='fresh tuna'), 0.022263698173576856)]"
            ]
          },
          "metadata": {
            "tags": []
          },
          "execution_count": 44
        }
      ]
    },
    {
      "cell_type": "code",
      "metadata": {
        "colab": {
          "base_uri": "https://localhost:8080/"
        },
        "id": "sY8jtfHfrJOJ",
        "outputId": "955b67a3-72c5-4728-ede4-66a1e5cb74f3"
      },
      "source": [
        "freq_item_sets_all_orders[1].take(20)"
      ],
      "execution_count": null,
      "outputs": [
        {
          "output_type": "execute_result",
          "data": {
            "text/plain": [
              "[(('pancakes', 'shrimp'), 0.010531929076123183),\n",
              " (('burgers', 'pancakes'), 0.010531929076123183),\n",
              " (('pancakes', 'spaghetti'), 0.025196640447940274),\n",
              " (('frozen vegetables', 'pancakes'), 0.013464871350486601),\n",
              " (('chocolate', 'pancakes'), 0.01986401813091588),\n",
              " (('green tea', 'pancakes'), 0.01639781362485002),\n",
              " (('milk', 'pancakes'), 0.01653112918277563),\n",
              " (('eggs', 'pancakes'), 0.021730435941874418),\n",
              " (('mineral water', 'pancakes'), 0.03372883615517931),\n",
              " (('french fries', 'pancakes'), 0.020130649246767097),\n",
              " (('ground beef', 'pancakes'), 0.014531395813891481),\n",
              " (('cake', 'pancakes'), 0.011865084655379284),\n",
              " (('olive oil', 'pancakes'), 0.010798560191974404),\n",
              " (('shrimp', 'spaghetti'), 0.021197173710171976),\n",
              " (('frozen vegetables', 'shrimp'), 0.01666444474070124),\n",
              " (('chocolate', 'shrimp'), 0.017997600319957337),\n",
              " (('shrimp', 'tomatoes'), 0.011198506865751233),\n",
              " (('green tea', 'shrimp'), 0.011465137981602452),\n",
              " (('milk', 'shrimp'), 0.01759765364618051),\n",
              " (('eggs', 'shrimp'), 0.014131449140114652)]"
            ]
          },
          "metadata": {
            "tags": []
          },
          "execution_count": 45
        }
      ]
    },
    {
      "cell_type": "code",
      "metadata": {
        "colab": {
          "base_uri": "https://localhost:8080/"
        },
        "id": "dJ1iDS2trQWk",
        "outputId": "c147665a-f042-4fc5-f8ef-4224793f22d8"
      },
      "source": [
        "freq_item_sets_all_orders[2].take(20)"
      ],
      "execution_count": null,
      "outputs": [
        {
          "output_type": "execute_result",
          "data": {
            "text/plain": [
              "[(('mineral water', 'pancakes', 'spaghetti'), 0.011465137981602452),\n",
              " (('frozen vegetables', 'mineral water', 'spaghetti'), 0.011998400213304892),\n",
              " (('chocolate', 'milk', 'spaghetti'), 0.010931875749900012),\n",
              " (('chocolate', 'eggs', 'spaghetti'), 0.010531929076123183),\n",
              " (('chocolate', 'mineral water', 'spaghetti'), 0.01586455139314758),\n",
              " (('milk', 'mineral water', 'spaghetti'), 0.01573123583522197),\n",
              " (('eggs', 'mineral water', 'spaghetti'), 0.014264764698040262),\n",
              " (('french fries', 'mineral water', 'spaghetti'), 0.010131982402346354),\n",
              " (('ground beef', 'mineral water', 'spaghetti'), 0.017064391414478068),\n",
              " (('mineral water', 'olive oil', 'spaghetti'), 0.010265297960271964),\n",
              " (('frozen vegetables', 'milk', 'mineral water'), 0.011065191307825623),\n",
              " (('chocolate', 'milk', 'mineral water'), 0.013998133582189041),\n",
              " (('chocolate', 'eggs', 'mineral water'), 0.013464871350486601),\n",
              " (('chocolate', 'ground beef', 'mineral water'), 0.010931875749900012),\n",
              " (('eggs', 'milk', 'mineral water'), 0.013064924676709772),\n",
              " (('ground beef', 'milk', 'mineral water'), 0.011065191307825623),\n",
              " (('eggs', 'ground beef', 'mineral water'), 0.010131982402346354)]"
            ]
          },
          "metadata": {
            "tags": []
          },
          "execution_count": 46
        }
      ]
    },
    {
      "cell_type": "code",
      "metadata": {
        "id": "1g2AnohzrTWh"
      },
      "source": [
        ""
      ],
      "execution_count": null,
      "outputs": []
    },
    {
      "cell_type": "markdown",
      "metadata": {
        "id": "6FYMTofutHnm"
      },
      "source": [
        ""
      ]
    }
  ]
}